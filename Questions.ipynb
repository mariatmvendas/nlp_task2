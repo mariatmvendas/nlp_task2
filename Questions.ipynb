{
 "cells": [
  {
   "cell_type": "markdown",
   "id": "5c87c904",
   "metadata": {},
   "source": [
    "## Questions"
   ]
  },
  {
   "cell_type": "markdown",
   "id": "30d20338",
   "metadata": {},
   "source": [
    "- **What kind of tool should convert the PDF to text?**\n",
    "\n",
    "In this case, since it is a scientific article GROBID is a good tool to do it. It will convert the pdf content into TEI XML extracting the text and the different sections. To convert the TEI XML content into actual text, we can use the lxml library.\n"
   ]
  },
  {
   "cell_type": "markdown",
   "id": "d990bfa8",
   "metadata": {},
   "source": [
    "- **What tool should be used to convert the text to sentences?**\n",
    "\n",
    "The nltk library parsed the text extracted by GROBID and lxml library into sentences.\n"
   ]
  },
  {
   "cell_type": "markdown",
   "id": "40002a72",
   "metadata": {},
   "source": [
    "- **What are difficult conversions?**\n",
    "\n",
    "With this pdf file there were some mistakes when it came to multiple links, citing references with et al. and lists. In these cases, the presence of a dot even though it is not the end of a sentence might cause some confusion within the tools."
   ]
  }
 ],
 "metadata": {
  "language_info": {
   "name": "python"
  }
 },
 "nbformat": 4,
 "nbformat_minor": 5
}
